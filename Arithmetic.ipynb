{
  "cells": [
    {
      "cell_type": "markdown",
      "metadata": {
        "id": "view-in-github",
        "colab_type": "text"
      },
      "source": [
        "<a href=\"https://colab.research.google.com/github/MattiaFiore/Source-Coding-Project/blob/main/Arithmetic.ipynb\" target=\"_parent\"><img src=\"https://colab.research.google.com/assets/colab-badge.svg\" alt=\"Open In Colab\"/></a>"
      ]
    },
    {
      "cell_type": "markdown",
      "metadata": {
        "id": "ehxHKI-GkSDH"
      },
      "source": [
        "# Arithmetic coding\n",
        "In this notebook we will:\n",
        "\n",
        "\n",
        "*   create an arithmetic encoder\n",
        "*   create arithmetic decoder\n",
        "\n",
        "Then we will test it on:\n",
        "\n",
        "\n",
        "*   Compressing the book war and peace\n",
        "*   Compressing a DNA sequence\n",
        "\n",
        "\n",
        "\n"
      ]
    },
    {
      "cell_type": "markdown",
      "metadata": {
        "id": "YBFZ2HY2mTRP"
      },
      "source": [
        "#Arithmetic Encoding\n",
        "We need to define a modified distribution function:\n",
        "\n",
        "$$C(x) = \\sum_{m=0}^{x-1}P(m)$$\n",
        "We also need to define the recursive equation for the arithmetic encoding scheme:\n",
        "\n",
        "$$ s_n = s_{n-1} + l_{n-1}\\cdot C(x_n)$$\n",
        "$$l_n = l_{n-1}\\cdot P(x_n)$$\n",
        "\n",
        "Considering that the starting point is:\n",
        "$$s_0 = 0$$\n",
        "$$l_0 = 1$$\n"
      ]
    },
    {
      "cell_type": "code",
      "execution_count": null,
      "metadata": {
        "id": "BQEdmYfuDmjf"
      },
      "outputs": [],
      "source": [
        "from math import ceil, log2, sqrt\n",
        "from collections import Counter\n",
        "import matplotlib.pyplot as plt\n",
        "import time\n",
        "import sys"
      ]
    },
    {
      "cell_type": "code",
      "execution_count": null,
      "metadata": {
        "colab": {
          "base_uri": "https://localhost:8080/"
        },
        "id": "VCaGN9yONF7D",
        "outputId": "37520a9b-3623-457e-c366-5c47ff015f89"
      },
      "outputs": [
        {
          "output_type": "stream",
          "name": "stdout",
          "text": [
            "Cloning into 'Source-Coding-Project'...\n",
            "remote: Enumerating objects: 76, done.\u001b[K\n",
            "remote: Counting objects: 100% (76/76), done.\u001b[K\n",
            "remote: Compressing objects: 100% (75/75), done.\u001b[K\n",
            "remote: Total 76 (delta 42), reused 0 (delta 0), pack-reused 0\u001b[K\n",
            "Receiving objects: 100% (76/76), 3.56 MiB | 3.55 MiB/s, done.\n",
            "Resolving deltas: 100% (42/42), done.\n"
          ]
        }
      ],
      "source": [
        "!git clone https://github.com/MattiaFiore/Source-Coding-Project.git"
      ]
    },
    {
      "cell_type": "code",
      "execution_count": null,
      "metadata": {
        "id": "lTSJbB8dNGis"
      },
      "outputs": [],
      "source": [
        "sys.path.append('/content/Source-Coding-Project')"
      ]
    },
    {
      "cell_type": "code",
      "execution_count": null,
      "metadata": {
        "id": "9GK1GmUsNJOv"
      },
      "outputs": [],
      "source": [
        "import SourceCoding"
      ]
    },
    {
      "cell_type": "markdown",
      "metadata": {
        "id": "zrdD2cWHlGc1"
      },
      "source": [
        "# Defining intervals"
      ]
    },
    {
      "cell_type": "code",
      "execution_count": null,
      "metadata": {
        "colab": {
          "base_uri": "https://localhost:8080/"
        },
        "id": "AUPu4ybEmRSP",
        "outputId": "f9cf41ad-aa91-40e1-96e8-f81bcfac45bb"
      },
      "outputs": [
        {
          "output_type": "execute_result",
          "data": {
            "text/plain": [
              "[0, 0.7, 0.7999999999999999]"
            ]
          },
          "metadata": {},
          "execution_count": 5
        }
      ],
      "source": [
        "symbols = ['a', 'b', 'c']\n",
        "probabilities = [0.70, 0.10, 0.20]\n",
        "\n",
        "#Calculate C\n",
        "C = [sum(probabilities[:i]) for i in range(0,len(probabilities))]\n",
        "C"
      ]
    },
    {
      "cell_type": "markdown",
      "metadata": {
        "id": "M-RBFydlp0W0"
      },
      "source": [
        "Now we define the equation, without using recursive function. we implement a bottom-up approach (dynamic programming)."
      ]
    },
    {
      "cell_type": "code",
      "execution_count": null,
      "metadata": {
        "id": "U_SKQYdDqDez"
      },
      "outputs": [],
      "source": [
        "def interval(probabilites, C, seq, symbols):\n",
        "\n",
        "    s_n = 0\n",
        "    l_n = 1\n",
        "\n",
        "    for k in seq:\n",
        "        # j is the index\n",
        "        #k is the symbol\n",
        "        index = symbols.index(k)\n",
        "        s_n = s_n + l_n*C[index]\n",
        "        l_n = l_n*probabilites[index]\n",
        "\n",
        "    return s_n, l_n"
      ]
    },
    {
      "cell_type": "markdown",
      "metadata": {
        "id": "1cGiQKL2VcmL"
      },
      "source": [
        "Th"
      ]
    },
    {
      "cell_type": "markdown",
      "metadata": {
        "id": "1ErJ1ab59B50"
      },
      "source": [
        "The function is contained in the library SourceCoding"
      ]
    },
    {
      "cell_type": "code",
      "execution_count": null,
      "metadata": {
        "colab": {
          "base_uri": "https://localhost:8080/"
        },
        "id": "wUjS8JxBuQiq",
        "outputId": "4a048dbe-491a-4add-e21b-41682b9aa3f2"
      },
      "outputs": [
        {
          "output_type": "stream",
          "name": "stdout",
          "text": [
            "0.0\n",
            "0.48999999999999994\n"
          ]
        }
      ],
      "source": [
        "seq = 'aa'\n",
        "s,l = SourceCoding.interval(probabilities, C, seq, symbols)\n",
        "print(s)\n",
        "print(s+l)"
      ]
    },
    {
      "cell_type": "markdown",
      "metadata": {
        "id": "lKc01h6J9IfQ"
      },
      "source": [
        "#From interval to bits\n",
        "After computing the interval we are interested into we need a function that will be able to convert the interval into a binary string.\n",
        "\n",
        "\n",
        "```\n",
        "Input:\n",
        "  - Decimal number\n",
        "  - Number of bits can be used\n",
        "\n",
        "Output:\n",
        "  - binary string\n",
        "\n",
        "```\n",
        "\n"
      ]
    },
    {
      "cell_type": "markdown",
      "metadata": {
        "id": "xa9WO2e7AkH1"
      },
      "source": [
        "Let's try with 'aaa'"
      ]
    },
    {
      "cell_type": "code",
      "execution_count": null,
      "metadata": {
        "colab": {
          "base_uri": "https://localhost:8080/",
          "height": 53
        },
        "id": "LlLShrMxAnY1",
        "outputId": "3a989ea3-9609-49ae-a181-64b62fc9f37d"
      },
      "outputs": [
        {
          "output_type": "stream",
          "name": "stdout",
          "text": [
            "0.5459999999999999\n"
          ]
        },
        {
          "output_type": "execute_result",
          "data": {
            "text/plain": [
              "'10001011110001101010'"
            ],
            "application/vnd.google.colaboratory.intrinsic+json": {
              "type": "string"
            }
          },
          "metadata": {},
          "execution_count": 8
        }
      ],
      "source": [
        "seq = 'abc'\n",
        "s,l = SourceCoding.interval(probabilities, C, seq, symbols)\n",
        "print(s)\n",
        "n = 20\n",
        "SourceCoding.conv_bit(s, n)"
      ]
    },
    {
      "cell_type": "markdown",
      "metadata": {
        "id": "8Gzr07LKBmui"
      },
      "source": [
        "## How many bits should we take?\n",
        "\n",
        "We try using the shannon type length:\n",
        "$$L_{x_i} = \\left \\lceil{log_2{\\frac{1}{p(x_i)}}} \\right \\rceil$$"
      ]
    },
    {
      "cell_type": "code",
      "execution_count": null,
      "metadata": {
        "colab": {
          "base_uri": "https://localhost:8080/"
        },
        "id": "senMEVbdC2Rc",
        "outputId": "67a95845-cb6e-4d2b-cd65-7be3528cf8ab"
      },
      "outputs": [
        {
          "output_type": "execute_result",
          "data": {
            "text/plain": [
              "7"
            ]
          },
          "metadata": {},
          "execution_count": 9
        }
      ],
      "source": [
        "seq = 'acb'\n",
        "s,l = SourceCoding.interval(probabilities, C, seq, symbols)\n",
        "\n",
        "p = 1\n",
        "for i in seq:\n",
        "     p *= probabilities[symbols.index(i)]\n",
        "\n",
        "L = ceil(log2(1/p))\n",
        "L"
      ]
    },
    {
      "cell_type": "markdown",
      "metadata": {
        "id": "qkesYI6uEVUE"
      },
      "source": [
        "##Is this code prefix free?\n",
        "\n"
      ]
    },
    {
      "cell_type": "code",
      "execution_count": null,
      "metadata": {
        "colab": {
          "base_uri": "https://localhost:8080/"
        },
        "id": "1ZVY1OhVE1bt",
        "outputId": "f4002f04-51e6-499e-e2e4-09d67f82e13e"
      },
      "outputs": [
        {
          "output_type": "stream",
          "name": "stdout",
          "text": [
            "s: 0.0\n",
            "l: 0.48999999999999994\n",
            "00\n",
            "s: 0.48999999999999994\n",
            "l: 0.5599999999999999\n",
            "0111\n",
            "s: 0.5599999999999999\n",
            "l: 0.7\n",
            "100\n",
            "s: 0.7\n",
            "l: 0.7699999999999999\n",
            "1011\n",
            "s: 0.7699999999999999\n",
            "l: 0.7799999999999999\n",
            "1100010\n",
            "s: 0.7799999999999999\n",
            "l: 0.7999999999999999\n",
            "110001\n",
            "s: 0.7999999999999999\n",
            "l: 0.94\n",
            "110\n",
            "s: 0.94\n",
            "l: 0.96\n",
            "111100\n",
            "s: 0.96\n",
            "l: 1.0\n",
            "11110\n"
          ]
        }
      ],
      "source": [
        "lista = ['aa', 'ab', 'ac', 'ba', 'bb', 'bc', 'ca', 'cb', 'cc' ]\n",
        "for i in lista:\n",
        "    print(SourceCoding.encode_shannon_type_length(probabilities, C, i, symbols))"
      ]
    },
    {
      "cell_type": "markdown",
      "metadata": {
        "id": "1J_Gvnc-FYfg"
      },
      "source": [
        "By looking at the result we see that the code is not prefix free."
      ]
    },
    {
      "cell_type": "markdown",
      "metadata": {
        "id": "DXlt8liMGmHt"
      },
      "source": [
        "we also need to properly choose the number inside the interval:\n",
        "$$\\hat{s}_n = s_n + 2^{-L}$$"
      ]
    },
    {
      "cell_type": "code",
      "execution_count": null,
      "metadata": {
        "colab": {
          "base_uri": "https://localhost:8080/"
        },
        "id": "BkDw7f6IGh42",
        "outputId": "e8fca19a-e169-4a88-d6ed-32550ee2901a"
      },
      "outputs": [
        {
          "output_type": "stream",
          "name": "stdout",
          "text": [
            "s: 0.0\n",
            "l: 0.48999999999999994\n",
            "01\n",
            "s: 0.48999999999999994\n",
            "l: 0.5599999999999999\n",
            "1000\n",
            "s: 0.5599999999999999\n",
            "l: 0.7\n",
            "101\n",
            "s: 0.7\n",
            "l: 0.7699999999999999\n",
            "1100\n",
            "s: 0.7699999999999999\n",
            "l: 0.7799999999999999\n",
            "1100011\n",
            "s: 0.7799999999999999\n",
            "l: 0.7999999999999999\n",
            "110010\n",
            "s: 0.7999999999999999\n",
            "l: 0.94\n",
            "111\n",
            "s: 0.94\n",
            "l: 0.96\n",
            "111101\n",
            "s: 0.96\n",
            "l: 1.0\n",
            "11111\n"
          ]
        }
      ],
      "source": [
        "lista = ['aa', 'ab', 'ac', 'ba', 'bb', 'bc', 'ca', 'cb', 'cc' ]\n",
        "for i in lista:\n",
        "    print(SourceCoding.encode_with_sn(probabilities, C, i, symbols))"
      ]
    },
    {
      "cell_type": "markdown",
      "metadata": {
        "id": "73XK8myqs5n_"
      },
      "source": [
        "## Prefix free code\n",
        "\n",
        "$$\\tilde{L}_n = \\left \\lceil{log_2{\\frac{1}{p(x_i)}}} \\right \\rceil +1$$\n",
        "$$\\tilde{s}_n = s_n + 2^{-\\tilde{L}_n}$$"
      ]
    },
    {
      "cell_type": "code",
      "execution_count": null,
      "metadata": {
        "colab": {
          "base_uri": "https://localhost:8080/"
        },
        "id": "ekMLdWn6GGNq",
        "outputId": "52dcb45e-eb70-4647-af5b-b11925bd36bb"
      },
      "outputs": [
        {
          "output_type": "stream",
          "name": "stdout",
          "text": [
            "s: 0.0\n",
            "l: 0.48999999999999994\n",
            "001\n",
            "s: 0.48999999999999994\n",
            "l: 0.5599999999999999\n",
            "10000\n",
            "s: 0.5599999999999999\n",
            "l: 0.7\n",
            "1001\n",
            "s: 0.7\n",
            "l: 0.7699999999999999\n",
            "10111\n",
            "s: 0.7699999999999999\n",
            "l: 0.7799999999999999\n",
            "11000110\n",
            "s: 0.7799999999999999\n",
            "l: 0.7999999999999999\n",
            "1100100\n",
            "s: 0.7999999999999999\n",
            "l: 0.94\n",
            "1101\n",
            "s: 0.94\n",
            "l: 0.96\n",
            "1111001\n",
            "s: 0.96\n",
            "l: 1.0\n",
            "111110\n"
          ]
        }
      ],
      "source": [
        "lista = ['aa', 'ab', 'ac', 'ba', 'bb', 'bc', 'ca', 'cb', 'cc' ]\n",
        "for i in lista:\n",
        "    print(SourceCoding.encode_arithmetic(probabilities, C, i, symbols, show=True))"
      ]
    },
    {
      "cell_type": "markdown",
      "metadata": {
        "id": "BNvNn1M5trUb"
      },
      "source": [
        "Now we can see that we have a prefix free code."
      ]
    },
    {
      "cell_type": "markdown",
      "metadata": {
        "id": "sB-HIkalZ2Jo"
      },
      "source": [
        "#Decoding\n",
        "\n",
        "The decoding procedure is much more complex than the encoding procedure.\n",
        "We have as an input a sequence of bits, we need to read each one and recompute the number. In the meanwhile we need to understand in which interval the number is, until we can take decisions. At some point we will have chosen all the letter of the block and we can start again.\n",
        "\n"
      ]
    },
    {
      "cell_type": "markdown",
      "metadata": {
        "id": "Pir8sD22cLxW"
      },
      "source": [
        "## One symbol decoding\n",
        "\n",
        "First we implement a class that will be able to performe all the operation of finding the right intervall. We cofigure the following attributes for the object.\n",
        "- C(x): 'orignale'\n",
        "- possible intervals: 'completo'\n",
        "- updated intervals: 'lista'\n",
        "- list of probabilities: 'probabilities'\n",
        "- list of possible symbols: 'symbols'\n",
        "- list of symbols decoded: 'decodifica'\n",
        "- index of symbol in the list of decoded symbols: 'index'\n",
        "- possible interval given by the stream of bits: 'intervallo'\n",
        "- exponent for the update of the inetrval: 'count'\n",
        "\n",
        "Then we have to implement a function that will be able to dynamically set the interval in which we are and if it is possible appen the decoded symbol:\n",
        "- update(self, char):\n",
        "char is a '0' or a '1'\n",
        "and it will modify the attribute self.lista. If the self.lista has length 2 it means that there is only one interval so we can derive a symbol and we need to computer the subintervals.\n",
        "\n",
        "After implementing the method that can dynamically understand the interval we need to create a method that will be able to assign a letter from the alphabet from the list:\n",
        "\n",
        "- decode(self):\n",
        "decode does not need an input. it will be used when the lenght of the list will be equal to 2. In that moment at least 1 letter from the symbol is decodable. It can happen that more than one letter is decodable at the same time."
      ]
    },
    {
      "cell_type": "code",
      "execution_count": null,
      "metadata": {
        "colab": {
          "base_uri": "https://localhost:8080/"
        },
        "id": "7oJYWUUC4dUv",
        "outputId": "1b7e4ceb-98d8-49d3-b176-e5492c8c13bc"
      },
      "outputs": [
        {
          "output_type": "stream",
          "name": "stdout",
          "text": [
            "['ca']\n"
          ]
        }
      ],
      "source": [
        "symbols = ['a', 'b', 'c']\n",
        "probabilities = [0.7,0.1,0.2]\n",
        "prova = SourceCoding.Interval_onesymbol(2, probabilities, symbols)\n",
        "\n",
        "stringa = '1101'\n",
        "\n",
        "flag = False\n",
        "parola = 0\n",
        "for i in stringa:\n",
        "\n",
        "    prova.update(i)\n",
        "    if len(prova.range) == 2:\n",
        "        prova.decode()\n",
        "\n",
        "#print(prova.decoded_seq)\n",
        "print(prova.decoded_seq)"
      ]
    },
    {
      "cell_type": "markdown",
      "metadata": {
        "id": "c3KUW8Ed4do9"
      },
      "source": [
        "It is possible to verify that all symbols are decodable. Now we need to generalize the class for the case of multiple symbols.\n",
        "\n",
        "* 001 -> aa\n",
        "* 10000 -> ab\n",
        "* 1001 -> ac\n",
        "* 10111 -> ba\n",
        "* 11000110 -> bb\n",
        "* 1100100 -> bc\n",
        "* 1101 -> ca\n",
        "* 1111001 -> cb\n",
        "* 111110 -> cc\n"
      ]
    },
    {
      "cell_type": "markdown",
      "metadata": {
        "id": "O3eTQRb3sNHa"
      },
      "source": [
        "## Decoding multiple symbols\n",
        "To decode multiple symbols the class need to understand when the symbols ends. Since they have all the same lenght if len(self.decodifica[self.index]) == N,\n",
        "we need to reset some of the parmeters like interval and so on and append an empty string"
      ]
    },
    {
      "cell_type": "markdown",
      "metadata": {
        "id": "5vtILX-uyns4"
      },
      "source": [
        "Let's try to decode 'aaaa'"
      ]
    },
    {
      "cell_type": "code",
      "execution_count": null,
      "metadata": {
        "colab": {
          "base_uri": "https://localhost:8080/"
        },
        "id": "IXGYt96ozR5q",
        "outputId": "20dcaed3-9112-42c5-a8dc-53cd3c57c408"
      },
      "outputs": [
        {
          "output_type": "stream",
          "name": "stdout",
          "text": [
            "aaac"
          ]
        }
      ],
      "source": [
        "symbols = ['a', 'b', 'c']\n",
        "probabilities = [0.7,0.1,0.2]\n",
        "prova = SourceCoding.Interval(2, probabilities, symbols)\n",
        "stringa = '001001'\n",
        "\n",
        "\n",
        "for i in stringa:\n",
        "\n",
        "    prova.update(i)\n",
        "    if len(prova.feasible_range) == 2:\n",
        "        prova.decode()\n",
        "\n",
        "for i in prova.decoded_seq:\n",
        "    print(i, end='')"
      ]
    },
    {
      "cell_type": "markdown",
      "metadata": {
        "id": "aQIZNkZmymsC"
      },
      "source": [
        "It does not work because the computer decode 'aa' just by reading '00', so it remains with the string 1001 which is 'ac'.\n",
        "To account for this problem we need to skip if needed a few bits. Since we decoded the word we can compute the length in bit that it should have and skip the needed bits. This will not be done in the class.\n",
        "$$\\tilde{L}_n = \\lceil{log_2{\\frac{1}{p(x_i)}}}\\rceil +1$$\n"
      ]
    },
    {
      "cell_type": "markdown",
      "metadata": {
        "id": "I7MpPTLRlnvC"
      },
      "source": [
        "\n",
        "* 001 -> aa\n",
        "* 10000 -> ab\n",
        "* 1001 -> ac\n",
        "* 10111 -> ba\n",
        "* 11000110 -> bb\n",
        "* 1100100 -> bc\n",
        "* 1101 -> ca\n",
        "* 1111001 -> cb\n",
        "* 111110 -> cc"
      ]
    },
    {
      "cell_type": "code",
      "execution_count": null,
      "metadata": {
        "colab": {
          "base_uri": "https://localhost:8080/"
        },
        "id": "KaIfL0FPtUYB",
        "outputId": "7f99828f-785d-4e22-d2be-c53dcf13661d"
      },
      "outputs": [
        {
          "output_type": "stream",
          "name": "stdout",
          "text": [
            "aaaacaaa\n"
          ]
        }
      ],
      "source": [
        "symbols = ['a', 'b', 'c']\n",
        "probabilities = [0.7,0.1,0.2]\n",
        "block_size = 2\n",
        "encoded_seq = '0010011101001'\n",
        "\n",
        "g = SourceCoding.arithmetic_decode(symbols, probabilities, block_size, encoded_seq)\n",
        "print(g)"
      ]
    },
    {
      "cell_type": "markdown",
      "metadata": {
        "id": "CfIXACgkljZw"
      },
      "source": [
        "#Decoding a longer text\n"
      ]
    },
    {
      "cell_type": "code",
      "execution_count": null,
      "metadata": {
        "id": "zWJ4t5qKmrOa"
      },
      "outputs": [],
      "source": [
        "text = '''Lorem ipsum dolor sit amet. Qui laborum iste eos dolorum optio et odio numquam est internos expedita id similique galisum ut quasi laboriosam 33 dolorem nisi. Qui tempora iusto rem minima iusto aut provident totam At animi laudantium et vero vitae ea ratione sunt rem sint eveniet. Et dicta dolores sed nemo enim est rerum voluptatum qui placeat dolore est voluptatem molestiae aut iure corrupti.'''"
      ]
    },
    {
      "cell_type": "code",
      "execution_count": null,
      "metadata": {
        "id": "CBzq-nrppfXg"
      },
      "outputs": [],
      "source": [
        "count = Counter(text)\n",
        "symbols = [i for i in count.keys()]"
      ]
    },
    {
      "cell_type": "code",
      "execution_count": null,
      "metadata": {
        "id": "sTdvmlPEmTqu",
        "colab": {
          "base_uri": "https://localhost:8080/"
        },
        "outputId": "e9d8ac5a-85a5-4040-ec43-4572265146df"
      },
      "outputs": [
        {
          "output_type": "stream",
          "name": "stdout",
          "text": [
            "000000000000000110100011010100110001101100101101101100101110001011011000000010110100110001111011001001011011011101011001001000001011010011011100100000100010100011011111001100100000110110100111101101011110011101010101010001100000100111110010011111111011010100000111011100000111011101110001111001011110010000101001010000111110101011100011100010100010100100010111010110001110100000010110111101000011000101100001101101101010010110011010100111000011111110111101010101010100010111011100000101101011110101011011001010010000100110111000110111011011101111110010000010001010000110010011011010011100101111101111100000011100001001100110001000011000101011001000000011001101000001111101000001011000111000101000010010001100001101001111001100001011101010011010111100010011001101001000111110101010111101011111010110101011011011010110110001010110110100010111111111010101100010100101000100011001101000100100110011101001110100010101000001011001011110101101000001010111101100010100001000011001111110000010100000101000011111010111010111101010100001001011101110111100100010101111010001011111000100100001100001011101011011001110110101100101100011000100110111111110110011110110001110110111011000100111000101001001111110100001101100100000001000011110010101000101001100010110001011101111000100110111111110111110111001011100010001101000111010111100100111110001100111000001101110011110011001011011001111111000100100010000000010011111111001111001110010110111101001101100110000001010001100000000100110000010011001110001010111100001100011111011111011101111010001011111000011010110111111110000010000001110100100101100101100100000010010011001000111010011011110\n"
          ]
        }
      ],
      "source": [
        "probabilities = [i/count.total() for i in count.values()]\n",
        "C = [sum(probabilities[:i]) for i in range(0,len(probabilities))]\n",
        "#Since we knoe that we can encode with N = 4\n",
        "#seq prob C smbols\n",
        "block_size = 11\n",
        "encoded_seq = ''\n",
        "for j in range(0,len(text), block_size):\n",
        "    encoded_seq += SourceCoding.encode_arithmetic(probabilities, C, text[j:j+block_size], symbols)\n",
        "    #print(f'real L: {len(encode(probabilities, C, text[j:j+block_size], symbols))}')\n",
        "\n",
        "print(encoded_seq)"
      ]
    },
    {
      "cell_type": "code",
      "execution_count": null,
      "metadata": {
        "colab": {
          "base_uri": "https://localhost:8080/"
        },
        "id": "vJNZUdhUnMQf",
        "outputId": "d2246c2b-bef3-4e2d-86ed-c6d237749dbd"
      },
      "outputs": [
        {
          "output_type": "stream",
          "name": "stdout",
          "text": [
            "Lorem ipsum dolor sit amet. Qui laborum iste eos dolorum optio et odio numquam est internos expedita id similique galisum ut quasi laboriosam 33 dolorem nisi. Qui tempora iusto rem minima iusto aut provident totam At animi laudantium et vero vitae ea ratione sunt rem sint eveniet. Et dicta dolores sed nemo enim est rerum voluptatum qui placeat dolore est voluptatem molestiae aut iure corrupti.\n"
          ]
        }
      ],
      "source": [
        "decoded_seq = SourceCoding.arithmetic_decode(symbols, probabilities, block_size, encoded_seq)\n",
        "print(decoded_seq)"
      ]
    },
    {
      "cell_type": "code",
      "execution_count": null,
      "metadata": {
        "colab": {
          "base_uri": "https://localhost:8080/"
        },
        "id": "osrlRajvoPpP",
        "outputId": "cda75c53-1f9a-4889-a733-53daf51b2002"
      },
      "outputs": [
        {
          "output_type": "stream",
          "name": "stdout",
          "text": [
            "Equal\n"
          ]
        }
      ],
      "source": [
        "if decoded_seq == text:\n",
        "    print('Equal')\n",
        "else:\n",
        "  print('Different')"
      ]
    },
    {
      "cell_type": "markdown",
      "metadata": {
        "id": "wcMitzN5GRUb"
      },
      "source": [
        "#Arithmetic vs Badout\n"
      ]
    },
    {
      "cell_type": "code",
      "execution_count": null,
      "metadata": {
        "colab": {
          "base_uri": "https://localhost:8080/"
        },
        "id": "78atlBM8GOdU",
        "outputId": "8e8d8bd5-c5ca-443d-948b-bbc26680a40e"
      },
      "outputs": [
        {
          "output_type": "stream",
          "name": "stdout",
          "text": [
            "Total length: 396\n",
            "Length of the text can be divided by : 1\n",
            "Length of the text can be divided by : 2\n",
            "Length of the text can be divided by : 3\n",
            "Length of the text can be divided by : 4\n",
            "Length of the text can be divided by : 6\n",
            "Length of the text can be divided by : 9\n",
            "Length of the text can be divided by : 11\n",
            "Length of the text can be divided by : 12\n",
            "Length of the text can be divided by : 18\n",
            "Length of the text can be divided by : 22\n",
            "Length of the text can be divided by : 33\n",
            "Length of the text can be divided by : 36\n",
            "Length of the text can be divided by : 44\n",
            "Length of the text can be divided by : 66\n",
            "Length of the text can be divided by : 99\n",
            "Length of the text can be divided by : 132\n",
            "Length of the text can be divided by : 198\n"
          ]
        }
      ],
      "source": [
        "text = '''Lorem ipsum dolor sit amet. Qui laborum iste eos dolorum optio et odio numquam est internos expedita id similique galisum ut quasi laboriosam 33 dolorem nisi. Qui tempora iusto rem minima iusto aut provident totam At animi laudantium et vero vitae ea ratione sunt rem sint eveniet. Et dicta dolores sed nemo enim est rerum voluptatum qui placeat dolore est voluptatem molestiae aut iure corrupti.'''\n",
        "\n",
        "print(f'Total length: {len(text)}')\n",
        "\n",
        "divisors = []\n",
        "for i in range(1, len(text)):\n",
        "    if len(text)%i== 0:\n",
        "        print(f'Length of the text can be divided by : {i}')\n",
        "        divisors.append(i)"
      ]
    },
    {
      "cell_type": "code",
      "execution_count": null,
      "metadata": {
        "id": "S7vItRsAuyUv"
      },
      "outputs": [],
      "source": [
        "count = Counter(text)"
      ]
    },
    {
      "cell_type": "code",
      "execution_count": null,
      "metadata": {
        "colab": {
          "base_uri": "https://localhost:8080/"
        },
        "id": "l5IBkQIbOGe9",
        "outputId": "9a4fe265-0213-4787-f38f-6257fc09acd1"
      },
      "outputs": [
        {
          "output_type": "stream",
          "name": "stdout",
          "text": [
            " The length of badout encoded text is: 1980 bits\n"
          ]
        }
      ],
      "source": [
        "print(f' The length of badout encoded text is: {ceil(log2(len(count.keys()))) * len(text)} bits')"
      ]
    },
    {
      "cell_type": "code",
      "execution_count": null,
      "metadata": {
        "colab": {
          "base_uri": "https://localhost:8080/",
          "height": 448
        },
        "id": "cpI2rm4HOkZk",
        "outputId": "328d232d-a86e-4c3c-ddc3-3418a6a0e463"
      },
      "outputs": [
        {
          "output_type": "execute_result",
          "data": {
            "text/plain": [
              "<BarContainer object of 26 artists>"
            ]
          },
          "metadata": {},
          "execution_count": 68
        },
        {
          "output_type": "display_data",
          "data": {
            "text/plain": [
              "<Figure size 640x480 with 1 Axes>"
            ],
            "image/png": "[encoded data removed]"
          },
          "metadata": {}
        }
      ],
      "source": [
        "plt.bar(count.keys(), count.values())"
      ]
    },
    {
      "cell_type": "code",
      "execution_count": null,
      "metadata": {
        "id": "n_rfuZptP-NC"
      },
      "outputs": [],
      "source": [
        "probabilities = [i/count.total() for i in count.values()]\n",
        "symbols = [i for i in count.keys()]\n",
        "C = [sum(probabilities[:i]) for i in range(0,len(probabilities))]"
      ]
    },
    {
      "cell_type": "code",
      "execution_count": null,
      "metadata": {
        "id": "zmrfEVq9QcVs"
      },
      "outputs": [],
      "source": [
        "encoded_length = []\n",
        "# We take just the first 9\n",
        "divisors = [1,2,3,4,6,9,11]\n",
        "for i in divisors:\n",
        "\n",
        "    #i represent the group you are doing the length of the group\n",
        "    encoded_text = \"\"\n",
        "    for j in range(0, len(text), i):\n",
        "      encoded_text += SourceCoding.encode_arithmetic(probabilities, C, text[j:j+i], symbols)\n",
        "\n",
        "    encoded_length.append(len(encoded_text))\n"
      ]
    },
    {
      "cell_type": "code",
      "execution_count": null,
      "metadata": {
        "id": "-Tbc5NX7xP78"
      },
      "outputs": [],
      "source": [
        "badout_length = ceil(log2(len(count.keys()))) * len(text)"
      ]
    },
    {
      "cell_type": "code",
      "execution_count": null,
      "metadata": {
        "colab": {
          "base_uri": "https://localhost:8080/",
          "height": 448
        },
        "id": "kuUUtAPQQ-4l",
        "outputId": "2cbf64c2-e122-4aba-9898-be72527cae11"
      },
      "outputs": [
        {
          "output_type": "execute_result",
          "data": {
            "text/plain": [
              "[<matplotlib.lines.Line2D at 0x7f491d7ca440>]"
            ]
          },
          "metadata": {},
          "execution_count": 72
        },
        {
          "output_type": "display_data",
          "data": {
            "text/plain": [
              "<Figure size 640x480 with 1 Axes>"
            ],
            "image/png": "[encoded data removed]"
          },
          "metadata": {}
        }
      ],
      "source": [
        "plt.scatter(divisors, encoded_length, marker='x')\n",
        "plt.plot(divisors, encoded_length, marker='x')\n",
        "plt.plot([1, 11], [badout_length, badout_length])\n",
        "\n",
        "# Number of bits / block of symbols considered\n",
        "# orange: badout encoding"
      ]
    },
    {
      "cell_type": "markdown",
      "metadata": {
        "id": "9-uBthwWiZOk"
      },
      "source": [
        "The total number of symbols was divisible only by a small number. Now there is the comparison of the bits/symbols"
      ]
    },
    {
      "cell_type": "code",
      "source": [
        "encoded_length[-1]"
      ],
      "metadata": {
        "colab": {
          "base_uri": "https://localhost:8080/"
        },
        "id": "vcXQC1GtNyzO",
        "outputId": "d92b85e0-d92c-487a-89d5-e25e7e38f75d"
      },
      "execution_count": null,
      "outputs": [
        {
          "output_type": "execute_result",
          "data": {
            "text/plain": [
              "1626"
            ]
          },
          "metadata": {},
          "execution_count": 74
        }
      ]
    },
    {
      "cell_type": "code",
      "execution_count": null,
      "metadata": {
        "colab": {
          "base_uri": "https://localhost:8080/",
          "height": 448
        },
        "id": "rucny9KJiY00",
        "outputId": "ffff81db-4d0d-4d6e-932a-ffa5e992bf5a"
      },
      "outputs": [
        {
          "output_type": "execute_result",
          "data": {
            "text/plain": [
              "<BarContainer object of 2 artists>"
            ]
          },
          "metadata": {},
          "execution_count": 73
        },
        {
          "output_type": "display_data",
          "data": {
            "text/plain": [
              "<Figure size 640x480 with 1 Axes>"
            ],
            "image/png": "[encoded data removed]"
          },
          "metadata": {}
        }
      ],
      "source": [
        "#HERE you can set the offset\n",
        "off = 3.8\n",
        "arithmetic = encoded_length[-1]/len(text) - off\n",
        "badout = badout_length/len(text) - off\n",
        "dictionary_ = {'Arithmetic':arithmetic, 'Badout':badout}\n",
        "plt.bar(dictionary_.keys(), dictionary_.values(), bottom = off)"
      ]
    },
    {
      "cell_type": "markdown",
      "metadata": {
        "id": "d-zenoG0jysQ"
      },
      "source": [
        "We need to compare also to entropy\n",
        "\n",
        "$H(x) = - \\sum_{i}p(x_i)log_2p(x_i)$"
      ]
    },
    {
      "cell_type": "code",
      "execution_count": null,
      "metadata": {
        "colab": {
          "base_uri": "https://localhost:8080/",
          "height": 466
        },
        "id": "b3bcVh4vkDB3",
        "outputId": "dfb4fc62-4515-46ee-c960-d7b0fbebb669"
      },
      "outputs": [
        {
          "output_type": "stream",
          "name": "stdout",
          "text": [
            "3.97294825257934\n"
          ]
        },
        {
          "output_type": "execute_result",
          "data": {
            "text/plain": [
              "<BarContainer object of 1 artists>"
            ]
          },
          "metadata": {},
          "execution_count": 76
        },
        {
          "output_type": "display_data",
          "data": {
            "text/plain": [
              "<Figure size 640x480 with 1 Axes>"
            ],
            "image/png": "[encoded data removed]"
          },
          "metadata": {}
        }
      ],
      "source": [
        "offset = 3.5\n",
        "entropy = -sum([i * log2(i) for i in probabilities])\n",
        "print(entropy)\n",
        "plt.bar('Badout', badout_length/len(text) - offset, bottom = offset)\n",
        "plt.bar([str(i) for i in divisors], [i /len(text) - offset for i in encoded_length], bottom = offset)\n",
        "plt.bar('Entropy', entropy-offset, bottom = offset)"
      ]
    },
    {
      "cell_type": "markdown",
      "metadata": {
        "id": "F5brphDgr9SN"
      },
      "source": [
        "# War and peace decoding"
      ]
    },
    {
      "cell_type": "code",
      "execution_count": null,
      "metadata": {
        "id": "ulAjXtHWgo53"
      },
      "outputs": [],
      "source": [
        "!wget -q https://raw.githubusercontent.com/MattiaFiore/Source-Coding-Project/main/book-war-and-peace.txt"
      ]
    },
    {
      "cell_type": "markdown",
      "metadata": {
        "id": "1b5UmlEpjUJQ"
      },
      "source": []
    },
    {
      "cell_type": "code",
      "execution_count": null,
      "metadata": {
        "id": "4ALwb7hNr_Ud"
      },
      "outputs": [],
      "source": [
        "book = ''\n",
        "with open(\"book-war-and-peace.txt\", 'r') as f:\n",
        "\n",
        "  for i in f:\n",
        "    book += i"
      ]
    },
    {
      "cell_type": "markdown",
      "metadata": {
        "id": "CPjjLSO_uGMf"
      },
      "source": [
        "The length of the file is divisible by: 1, 3, 193, ...\n",
        "\n",
        "We cannot use 193 because of floating precision. So we'll use just 1 and 3."
      ]
    },
    {
      "cell_type": "code",
      "execution_count": null,
      "metadata": {
        "id": "paaM8tzguFKR"
      },
      "outputs": [],
      "source": [
        "count = Counter(book)\n",
        "probabilities = [i/count.total() for i in count.values()]\n",
        "symbols = [i for i in count.keys()]\n",
        "C = [sum(probabilities[:i]) for i in range(0,len(probabilities))]"
      ]
    },
    {
      "cell_type": "code",
      "execution_count": null,
      "metadata": {
        "id": "Ck-5n0_Gv1Zy"
      },
      "outputs": [],
      "source": [
        "entropy = sum([p*log2(1/p) for p in probabilities])"
      ]
    },
    {
      "cell_type": "code",
      "execution_count": null,
      "metadata": {
        "colab": {
          "base_uri": "https://localhost:8080/"
        },
        "id": "pbczsgHtvUFI",
        "outputId": "d83f8a27-e4fe-4ce5-98a9-8c6600ab61cf"
      },
      "outputs": [
        {
          "output_type": "execute_result",
          "data": {
            "text/plain": [
              "82"
            ]
          },
          "metadata": {},
          "execution_count": 88
        }
      ],
      "source": [
        "len(count.values())"
      ]
    },
    {
      "cell_type": "code",
      "execution_count": null,
      "metadata": {
        "colab": {
          "base_uri": "https://localhost:8080/"
        },
        "id": "AdioC5DJug2O",
        "outputId": "e104f893-e205-4fdd-bd1f-12cfcfc14af9"
      },
      "outputs": [
        {
          "output_type": "stream",
          "name": "stdout",
          "text": [
            "Length of the group: 1\n",
            "Encoding complete, time to complete: 14.024579524993896s\n",
            "Decoding complete, time to complete: 396.0241084098816s\n",
            "Same\n"
          ]
        }
      ],
      "source": [
        "encoded_length = []\n",
        "encoded_sequences = []\n",
        "# We take just the first 9\n",
        "divisors = [1]\n",
        "for i in divisors:\n",
        "    #i represent the group you are doing the length of the group\n",
        "    print(f'Length of the group: {i}')\n",
        "    start = time.time()\n",
        "    encoded_text = \"\"\n",
        "    for j in range(0, len(book), i):\n",
        "      encoded_text += SourceCoding.encode_arithmetic(probabilities, C, book[j:j+i], symbols)\n",
        "\n",
        "    end = time.time()\n",
        "\n",
        "    print(f'Encoding complete, time to complete: {end-start}s')\n",
        "\n",
        "    start = time.time()\n",
        "    decoded_seq = SourceCoding.arithmetic_decode(symbols, probabilities, i, encoded_text)\n",
        "    end = time.time()\n",
        "\n",
        "    print(f'Decoding complete, time to complete: {end-start}s')\n",
        "    if decoded_seq == book:\n",
        "      print('Same')\n",
        "    else:\n",
        "      print('Different')\n",
        "\n",
        "\n",
        "    encoded_length.append(len(encoded_text))\n",
        "    encoded_sequences.append(encoded_text)"
      ]
    },
    {
      "cell_type": "code",
      "execution_count": null,
      "metadata": {
        "colab": {
          "base_uri": "https://localhost:8080/"
        },
        "id": "jFV_oK9GvP00",
        "outputId": "ae367c5d-2ca2-4fb7-fd1f-d57c8f19e2c6"
      },
      "outputs": [
        {
          "output_type": "execute_result",
          "data": {
            "text/plain": [
              "<BarContainer object of 1 artists>"
            ]
          },
          "metadata": {},
          "execution_count": 91
        },
        {
          "output_type": "display_data",
          "data": {
            "text/plain": [
              "<Figure size 640x480 with 1 Axes>"
            ],
            "image/png": "[encoded data removed]"
          },
          "metadata": {}
        }
      ],
      "source": [
        "offset = 0\n",
        "plt.bar('Badout', 7-offset, bottom = offset)\n",
        "plt.bar(['N=1'], [ i/len(book)-offset for i in encoded_length ], bottom = offset)\n",
        "plt.bar('Entropy', entropy-offset, bottom = offset)"
      ]
    },
    {
      "cell_type": "markdown",
      "metadata": {
        "id": "KGphIjkAnHuN"
      },
      "source": [
        "# DNA data compression"
      ]
    },
    {
      "cell_type": "code",
      "execution_count": null,
      "metadata": {
        "colab": {
          "base_uri": "https://localhost:8080/"
        },
        "id": "jROBkLxnnJUd",
        "outputId": "9435222a-1ee6-4f24-90a0-0b4dc84b0cc8"
      },
      "outputs": [
        {
          "output_type": "execute_result",
          "data": {
            "text/plain": [
              "1365"
            ]
          },
          "metadata": {},
          "execution_count": 77
        }
      ],
      "source": [
        "DNA_sequence = \"TCCATTGATTAATGGCCTGANTCGGATTAGANATCAATACACTATCAATTATTCCAATAATTTCAACATTACACCACCCACGATCAACTGAAGCTGCTACAAAATATTTCCTCACCCAAGCAGCTGCTTCANCTTTAATCCTTTTTTCAAGCACAATTAATGCCTGACAAACAGGATCATGAGACATTACCCAACTATCATCAACCCCCTCACACATTTTATTAACTATGGCTTTGGCCATAAAACTAGGACTCGCCCCACTTCACTTTTGATTACCAGAAGTAATTCAAGGGTCTTCCATAAACACAGCCTTAATTATTGTNACTTGACAAAAACTAGCCCCAATATCCCTAATCTTTTTAACCATAAATAATTTATCAACAACTATTTTAATGATAATAGGACTTGTATCTTCACTTGTCGGAGGATGAGCAGGACTTAATCAAACACAAACTCGAAAAATTATAGCCTACTCATCTATTGCTCACCTAGGGTGAATAGCAGCCATTTCCTCAATTATAACAAACATTTTAATCCTCAACCTATTAATTTACCTAATTATAACTACCTCAGTATTTTGCTTTATTATTATTACAAAATCAAAAACAATCCAAAACACAGCTACTATTTGGACAATATCACCAACACTAACAATTACCATAATACTTTCTTTACTTTCACTAGGAGGACTACCGCCACTAACAGGATTTATACCAAAATGAATAATTATAGAAGAACTTATTAATCAAAACTTTACTACAATTACTACTATGATAGCACTATCGTCCTTATTAAGCCTATTTTTTTATATTCGACTAACATATACAACTTCACTTACACTATCCCCAAACACAACCCAAACGAAATTTAAATGACGATTTTACCCAAACATAAAAACCACAGTAATTATAGTCTCTACAACAGTCACAATTTTTATATTACCGATACTTCCAATAATTTTGATATAAAAACTTAGGATAAACTAAACCAAGAGCCTTCAAAGCTCAAAAAAGGGGTGTAACCCCCCTAGTTTTTGTAAGACTTGTAAAATACTAATTTACATCTCTTGAATGCAACTTAAACACTTTAATTAAGCTAAAACCTTACTGAATAGGCGGGCTTTTAACCCACGAAAAATTAATTAACAGCTAATTTCCCAAACCAACGGGCTTCTATTCGCTTCCCCCGTCTGGGGGGGGAAACGGGAGAAGCCCCGGAGCCTTTAAGGGCTCTTCTTCAAACTTGCAATTTGACGTAAATCACTTACTTCGGGGCTTGATAAAGAAAGGAATTAAACCAATGTGAATAGGACTACAGCCTACCGCCTACCATTCGGCCACTTTACCTGTGTTTATTAATCGTTGA\"\n",
        "len(DNA_sequence)"
      ]
    },
    {
      "cell_type": "markdown",
      "metadata": {
        "id": "2UUs4RsKnTJa"
      },
      "source": [
        "This are all the possible divisors of 1365:\n",
        "\n",
        "1, 3, 5, 7, 13, 15, 21, 35, 39, 65, 91, 105, 195, 273, 455, 1365\n",
        "\n",
        "Using Badout code we would need a total of:\n",
        "\n",
        "$1365 \\cdot 2 = 2730$ bits"
      ]
    },
    {
      "cell_type": "code",
      "execution_count": null,
      "metadata": {
        "id": "AcXSVGtknUE4"
      },
      "outputs": [],
      "source": [
        "count = Counter(DNA_sequence)\n",
        "probabilities = [i/count.total() for i in count.values()]\n",
        "symbols = [i for i in count.keys()]\n",
        "C = [sum(probabilities[:i]) for i in range(0,len(probabilities))]"
      ]
    },
    {
      "cell_type": "code",
      "execution_count": null,
      "metadata": {
        "colab": {
          "base_uri": "https://localhost:8080/"
        },
        "id": "lGls1qbpn5uh",
        "outputId": "b17abf52-462c-4e05-9432-65766e75aa3f"
      },
      "outputs": [
        {
          "output_type": "stream",
          "name": "stdout",
          "text": [
            "Uguali\n",
            "Uguali\n",
            "Uguali\n",
            "Uguali\n",
            "Uguali\n",
            "Uguali\n",
            "Uguali\n"
          ]
        }
      ],
      "source": [
        "encoded_length = []\n",
        "encoded_sequences = []\n",
        "# We take just the first 9\n",
        "divisors = [1, 3, 5, 7, 13, 15, 21]\n",
        "for i in divisors:\n",
        "    #i represent the group you are doing the length of the group\n",
        "\n",
        "    encoded_text = \"\"\n",
        "    for j in range(0, len(DNA_sequence), i):\n",
        "      encoded_text += SourceCoding.encode_arithmetic(probabilities, C, DNA_sequence[j:j+i], symbols)\n",
        "\n",
        "    decoded_seq = SourceCoding.arithmetic_decode(symbols, probabilities, i, encoded_text)\n",
        "    if decoded_seq == DNA_sequence:\n",
        "      print('Uguali')\n",
        "    else:\n",
        "      print('Diversi')\n",
        "\n",
        "\n",
        "    encoded_length.append(len(encoded_text))\n",
        "    encoded_sequences.append(encoded_text)"
      ]
    },
    {
      "cell_type": "code",
      "execution_count": null,
      "metadata": {
        "id": "-nNF4qwcqha7"
      },
      "outputs": [],
      "source": [
        "entropy = sum([p*log2(1/p) for p in probabilities])"
      ]
    },
    {
      "cell_type": "code",
      "execution_count": null,
      "metadata": {
        "colab": {
          "base_uri": "https://localhost:8080/",
          "height": 448
        },
        "id": "t_NJIUB4qlIa",
        "outputId": "ff2ab817-d4c7-4608-ddae-027d648befb2"
      },
      "outputs": [
        {
          "output_type": "execute_result",
          "data": {
            "text/plain": [
              "<BarContainer object of 1 artists>"
            ]
          },
          "metadata": {},
          "execution_count": 81
        },
        {
          "output_type": "display_data",
          "data": {
            "text/plain": [
              "<Figure size 640x480 with 1 Axes>"
            ],
            "image/png": "[encoded data removed]"
          },
          "metadata": {}
        }
      ],
      "source": [
        "offset = 1.85\n",
        "plt.bar('Badout', 2730/len(DNA_sequence)-offset, bottom = offset)\n",
        "plt.bar(['N=1', 'N=3', 'N=5', 'N=7', 'N = 13', 'N = 15', 'N = 21'], [ i/len(DNA_sequence)-offset for i in encoded_length ], bottom = offset)\n",
        "plt.bar('Entropy', entropy-offset, bottom = offset)"
      ]
    },
    {
      "cell_type": "code",
      "execution_count": null,
      "metadata": {
        "colab": {
          "base_uri": "https://localhost:8080/",
          "height": 448
        },
        "id": "NmR8Ay-Srcd2",
        "outputId": "9fb5f474-df8b-423a-988a-5df651e8dbc2"
      },
      "outputs": [
        {
          "output_type": "execute_result",
          "data": {
            "text/plain": [
              "<BarContainer object of 1 artists>"
            ]
          },
          "metadata": {},
          "execution_count": 83
        },
        {
          "output_type": "display_data",
          "data": {
            "text/plain": [
              "<Figure size 640x480 with 1 Axes>"
            ],
            "image/png": "[encoded data removed]"
          },
          "metadata": {}
        }
      ],
      "source": [
        "offset = 1.88\n",
        "plt.bar('Badout', 2730/len(DNA_sequence)-offset, bottom = offset)\n",
        "plt.bar(['N = 15', 'N = 21'], [encoded_length[-2]/len(DNA_sequence)-offset , encoded_length[-1]/len(DNA_sequence)-offset] , bottom = offset)\n",
        "plt.bar('Entropy', entropy-offset, bottom = offset)"
      ]
    }
  ],
  "metadata": {
    "colab": {
      "collapsed_sections": [
        "YBFZ2HY2mTRP",
        "zrdD2cWHlGc1",
        "lKc01h6J9IfQ",
        "sB-HIkalZ2Jo",
        "Pir8sD22cLxW",
        "O3eTQRb3sNHa",
        "CfIXACgkljZw",
        "wcMitzN5GRUb",
        "F5brphDgr9SN",
        "KGphIjkAnHuN"
      ],
      "provenance": [],
      "authorship_tag": "ABX9TyOeHEEPT2kukjuzpEfsFl5z",
      "include_colab_link": true
    },
    "kernelspec": {
      "display_name": "Python 3",
      "name": "python3"
    },
    "language_info": {
      "name": "python"
    }
  },
  "nbformat": 4,
  "nbformat_minor": 0
}